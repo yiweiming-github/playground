{
 "cells": [
  {
   "cell_type": "markdown",
   "metadata": {
    "deletable": true,
    "editable": true
   },
   "source": [
    "# Introduction\n",
    "\n",
    "This folder contains a few samples of solving equity trading problem using deep learning methods. \n",
    "\n",
    "Trading is a difficult game. There're so many participants with different roles in the game and the \"rules\" are much less well-defined than games like GO or Hold'em. So I'm not able to give winning strategies here. The samples only show how to \"translate\" trading to the problems that deep learning is good at. Maybe the \"translation\" is not good enough here, I hope you can find better ones to make some real money.\n",
    "\n",
    "The samples are implemented in python using tensorflow/tensorlayer, while some data preparation codes are not presented here. However, I will show the input data format if necessary, so that you can prepare you own training/test data.\n",
    "\n",
    "I tried a few different deep learning methods as below:\n",
    "\n",
    "+ classfication\n",
    "+ reinforcement learning\n",
    "\n",
    "Before I go into more details, I'd like to emphasize that I'm not able to give winning strategies here. It will be obvious when you see the test result. It's not that easy to make money in financial market.\n",
    "\n",
    "# Classfication\n",
    "Classification is a very typical problem that machine learning can solve. In equity trading, generally speaking, if we can classify \"good\" and \"bad\" stocks, it's much easier to make profitable trading decisions. \n",
    "\n",
    "What's the definition of \"good\" stocks? From a trader's (to be more accurate, a trader with long positions) point of view, a \"good\" stock is the one whose price can go up by certain percentage in a period in the future. It really depends on the trader's goal. For example, we can define \"good\" stock as: price going up by 5% in the next 5 trading days. Is the criteria of 5% and 5 trading day reasonable? It just depends on the trader's goal.\n",
    "\n",
    "What is the input? It can be any data related to the stock, for example, financial report of the underlying firm, trading price sequence, or even the weather if you believe stock price depends on it. Given the fact that a lot of traders like analyzing candle bar chart, I will take candle bar chart as input. To make it look more familiar to machine learning beginners, I will process the candle bar chart in a similar way as in MNIST problem.\n",
    "\n",
    "## Input Data Process\n",
    "MNIST problem is an image recognition problem. The images are input as a digit array, in which each digit represents a \"pixel\". I processed candle bar chart in a similar way.\n",
    "\n",
    "Suppose we have a sequence of day prices (seq, open, high, low, close) of a stock for a particular time window of 20 trading days."
   ]
  },
  {
   "cell_type": "code",
   "execution_count": 7,
   "metadata": {
    "collapsed": false,
    "deletable": true,
    "editable": true
   },
   "outputs": [
    {
     "data": {
      "image/png": "[encoded data removed]",
      "text/plain": [
       "<matplotlib.figure.Figure at 0x26b5cc421d0>"
      ]
     },
     "metadata": {},
     "output_type": "display_data"
    }
   ],
   "source": [
    "import matplotlib.pyplot as plt\n",
    "import matplotlib.finance as mpf\n",
    "\n",
    "prices = [[1,10.203817,10.342105,9.410782,9.577291],\n",
    "[2,9.467226,9.693001,9.376915,9.419248],\n",
    "[3,9.269672,9.269672,8.677012,8.820944],\n",
    "[4,8.645968,8.758856,8.513325,8.592347],\n",
    "[5,8.705234,8.719345,8.310127,8.386327],\n",
    "[6,8.451237,8.606457,8.366571,8.431482],\n",
    "[7,8.394793,8.406082,8.183129,8.256506],\n",
    "[8,8.19724,8.465348,8.140796,8.386327],\n",
    "[9,8.256506,8.733456,8.143618,8.640324],\n",
    "[10,8.710879,8.871743,8.507681,8.533081],\n",
    "[11,8.513325,8.617746,7.807778,8.211351],\n",
    "[12,8.087174,8.228284,8.027908,8.10693],\n",
    "[13,8.030731,8.157729,7.858577,8.036375],\n",
    "[14,8.027908,8.152085,7.999687,8.067419],\n",
    "[15,8.067419,8.104108,7.940421,8.033553],\n",
    "[16,8.084352,8.26215,8.047664,8.225462],\n",
    "[17,8.225462,8.358105,8.211351,8.276261],\n",
    "[18,8.281906,8.485103,8.26215,8.439948],\n",
    "[19,8.397615,8.499214,8.327061,8.394793],\n",
    "[20,8.369393,8.470992,8.228284,8.462526]]\n",
    "\n",
    "fig, ax = plt.subplots()\n",
    "fig.subplots_adjust(bottom=0.2)    \n",
    "ax.autoscale_view()    \n",
    "plt.xticks(rotation=45)\n",
    "plt.yticks()\n",
    "mpf.candlestick_ohlc(ax,prices,width=0.5,colorup='r',colordown='green')\n",
    "plt.grid()\n",
    "plt.show()"
   ]
  },
  {
   "cell_type": "markdown",
   "metadata": {},
   "source": []
  },
  {
   "cell_type": "markdown",
   "metadata": {
    "deletable": true,
    "editable": true
   },
   "source": [
    "We construct a grid of size of 50 by 20, and select the highest price and the lowest price during the 20 trading days as top and bottom. The x-axis is trading day sequence from 1 to 20, and the y-axis is price mapped to the grid. And we define five types of \"pixel\":\n",
    "\n",
    "```\n",
    "None = 0        # blank pixel\n",
    "LongBody = 1     # a pixel of bar body with close >= open, red bar\n",
    "LongTail = 2     # a pixel of bar tail with close >= open, red bar\n",
    "ShortBody = -1    # a pixel of bar body with close < open, green bar\n",
    "ShortTail = -2    # a pixel of bar tail with close < open, green bar\n",
    "```\n",
    "\n",
    "So the chart of 20 bars above can be converted to a matrix of 50 by 20 as below:\n",
    "\n",
    "```\n",
    "-2  0  0  0  0  0  0  0  0  0  0  0  0  0  0  0  0  0  0  0\n",
    "-2  0  0  0  0  0  0  0  0  0  0  0  0  0  0  0  0  0  0  0 \n",
    "-1  0  0  0  0  0  0  0  0  0  0  0  0  0  0  0  0  0  0  0 \n",
    "-1  0  0  0  0  0  0  0  0  0  0  0  0  0  0  0  0  0  0  0 \n",
    "-1  0  0  0  0  0  0  0  0  0  0  0  0  0  0  0  0  0  0  0 \n",
    "-1  0  0  0  0  0  0  0  0  0  0  0  0  0  0  0  0  0  0  0 \n",
    "-1  0  0  0  0  0  0  0  0  0  0  0  0  0  0  0  0  0  0  0 \n",
    "-1  0  0  0  0  0  0  0  0  0  0  0  0  0  0  0  0  0  0  0 \n",
    "-1  0  0  0  0  0  0  0  0  0  0  0  0  0  0  0  0  0  0  0 \n",
    "-1  0  0  0  0  0  0  0  0  0  0  0  0  0  0  0  0  0  0  0 \n",
    "-1  0  0  0  0  0  0  0  0  0  0  0  0  0  0  0  0  0  0  0 \n",
    "-1  0  0  0  0  0  0  0  0  0  0  0  0  0  0  0  0  0  0  0 \n",
    "-1 -2  0  0  0  0  0  0  0  0  0  0  0  0  0  0  0  0  0  0 \n",
    "-1 -2  0  0  0  0  0  0  0  0  0  0  0  0  0  0  0  0  0  0 \n",
    "-1 -2  0  0  0  0  0  0  0  0  0  0  0  0  0  0  0  0  0  0 \n",
    "-2 -2  0  0  0  0  0  0  0  0  0  0  0  0  0  0  0  0  0  0 \n",
    "-2 -2  0  0  0  0  0  0  0  0  0  0  0  0  0  0  0  0  0  0 \n",
    "-2 -1  0  0  0  0  0  0  0  0  0  0  0  0  0  0  0  0  0  0 \n",
    " 0 -2  0  0  0  0  0  0  0  0  0  0  0  0  0  0  0  0  0  0 \n",
    " 0  0  0  0  0  0  0  0  0  0  0  0  0  0  0  0  0  0  0  0 \n",
    " 0  0  0  0  0  0  0  0  0  0  0  0  0  0  0  0  0  0  0  0 \n",
    " 0  0 -1  0  0  0  0  0  0  0  0  0  0  0  0  0  0  0  0  0 \n",
    " 0  0 -1  0  0  0  0  0  0  0  0  0  0  0  0  0  0  0  0  0 \n",
    " 0  0 -1  0  0  0  0  0  0  0  0  0  0  0  0  0  0  0  0  0 \n",
    " 0  0 -1  0  0  0  0  0  0  0  0  0  0  0  0  0  0  0  0  0 \n",
    " 0  0 -1  0  0  0  0  0  0  0  0  0  0  0  0  0  0  0  0  0 \n",
    " 0  0 -1  0  0  0  0  0  0  0  0  0  0  0  0  0  0  0  0  0 \n",
    " 0  0 -1  0  0  0  0  0  0  0  0  0  0  0  0  0  0  0  0  0 \n",
    " 0  0 -1  0  0  0  0  0  0  0  0  0  0  0  0  0  0  0  0  0 \n",
    " 0  0 -1  0  0  0  0  0  0 -2  0  0  0  0  0  0  0  0  0  0 \n",
    " 0  0 -2  0  0  0  0  0  0 -2  0  0  0  0  0  0  0  0  0  0 \n",
    " 0  0 -2 -2  0  0  0  0  2 -2  0  0  0  0  0  0  0  0  0  0 \n",
    " 0  0  0 -2 -1  0  0  0  2 -1  0  0  0  0  0  0  0  0  0  0 \n",
    " 0  0  0 -1 -1  0  0  0  1 -1  0  0  0  0  0  0  0  0  0  0 \n",
    " 0  0  0 -2 -1 -2  0  0  1 -1 -2  0  0  0  0  0  0  0  0  0\n",
    " 0  0  0 -2 -1 -2  0  0  1 -2 -2  0  0  0  0  0  0  0  0  0 \n",
    " 0  0  0  0 -1 -2  0  0  1  0 -1  0  0  0  0  0  0  2 -2  2 \n",
    " 0  0  0  0 -1 -2  0  2  1  0 -1  0  0  0  0  0  0  1 -2  1 \n",
    " 0  0  0  0 -2  0 -1  1  1  0 -1  0  0  0  0  0  0  1 -2  2 \n",
    " 0  0  0  0 -2  0 -1  1  1  0 -1  0  0  0  0  0  2  1  0  2 \n",
    " 0  0  0  0  0  0 -1  1  1  0 -1  0  0  0  0  0  1  2  0  2 \n",
    " 0  0  0  0  0  0 -2  1  2  0 -1  2  0  0  0  1  2  0  0  0 \n",
    " 0  0  0  0  0  0  0  2  2  0 -2  2  0  0  0  1  0  0  0  0 \n",
    " 0  0  0  0  0  0  0  0  0  0 -2  2  2  2  0  1  0  0  0  0 \n",
    " 0  0  0  0  0  0  0  0  0  0 -2  2  2  1 -1  2  0  0  0  0 \n",
    " 0  0  0  0  0  0  0  0  0  0 -2  0  2  2 -2  0  0  0  0  0 \n",
    " 0  0  0  0  0  0  0  0  0  0 -2  0  2  0 -2  0  0  0  0  0 \n",
    " 0  0  0  0  0  0  0  0  0  0 -2  0  2  0  0  0  0  0  0  0 \n",
    " 0  0  0  0  0  0  0  0  0  0 -2  0  0  0  0  0  0  0  0  0 \n",
    " 0  0  0  0  0  0  0  0  0  0 -2  0  0  0  0  0  0  0  0  0 \n",
    "```\n",
    "\n",
    "So now the trading problem is to classify a lot of the images to be \"good\" or \"bad\". Actually, in order to make it more similar to MNIST, I classify the whole training set to 10 types. At first, a few things to define: \n",
    "\n",
    "$V = (Close_{T+5} - Close_T) / (max - min)$\n",
    "\n",
    "\n",
    "## Simple Neural Network\n",
    "\n",
    "## CNN\n",
    "\n",
    "# Reinforcement Learning"
   ]
  }
 ],
 "metadata": {
  "kernelspec": {
   "display_name": "Python 3",
   "language": "python",
   "name": "python3"
  },
  "language_info": {
   "codemirror_mode": {
    "name": "ipython",
    "version": 3
   },
   "file_extension": ".py",
   "mimetype": "text/x-python",
   "name": "python",
   "nbconvert_exporter": "python",
   "pygments_lexer": "ipython3",
   "version": "3.5.2"
  }
 },
 "nbformat": 4,
 "nbformat_minor": 2
}
